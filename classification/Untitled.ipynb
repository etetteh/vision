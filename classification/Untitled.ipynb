{
 "cells": [
  {
   "cell_type": "code",
   "execution_count": 1,
   "id": "70e32923-6ffc-4c7f-a4cd-df3bca886316",
   "metadata": {},
   "outputs": [],
   "source": [
    "import torch, torchvision\n",
    "\n",
    "num_classes = 15"
   ]
  },
  {
   "cell_type": "code",
   "execution_count": 2,
   "id": "07efb173-d559-4aba-b5ae-457a189733f1",
   "metadata": {},
   "outputs": [],
   "source": []
  },
  {
   "cell_type": "code",
   "execution_count": 3,
   "id": "e26afbcb-497d-47d2-b1d8-716883a8f59e",
   "metadata": {},
   "outputs": [],
   "source": [
    "model = torchvision.models.__dict__[\"resnet18\"](pretrained=True)\n",
    "out_chn = model.conv1.out_channels\n",
    "model.conv1 = torch.nn.Conv2d(1, out_chn, kernel_size=(7, 7), stride=(2, 2), padding=(3, 3), bias=False)\n",
    "num_ftrs = model.fc.in_features\n",
    "model.fc = torch.nn.Linear(in_features=num_ftrs, out_features=num_classes, bias=True)\n"
   ]
  },
  {
   "cell_type": "code",
   "execution_count": 1,
   "id": "7c3093db-e1ed-4146-bb21-e5d925f036d4",
   "metadata": {},
   "outputs": [],
   "source": [
    "from torchvision.transforms import autoaugment, transforms\n",
    "from torchvision.transforms.functional import InterpolationMode"
   ]
  },
  {
   "cell_type": "code",
   "execution_count": 3,
   "id": "feb8435a-c9df-4d9c-b64c-771c35eab076",
   "metadata": {},
   "outputs": [
    {
     "data": {
      "text/plain": [
       "<InterpolationMode.BILINEAR: 'bilinear'>"
      ]
     },
     "execution_count": 3,
     "metadata": {},
     "output_type": "execute_result"
    }
   ],
   "source": [
    "InterpolationMode(cfg.interpolation)"
   ]
  },
  {
   "cell_type": "code",
   "execution_count": null,
   "id": "7c974d16-d037-41b3-90ae-be2f4926a729",
   "metadata": {},
   "outputs": [],
   "source": []
  }
 ],
 "metadata": {
  "kernelspec": {
   "display_name": "Python 3",
   "language": "python",
   "name": "python3"
  },
  "language_info": {
   "codemirror_mode": {
    "name": "ipython",
    "version": 3
   },
   "file_extension": ".py",
   "mimetype": "text/x-python",
   "name": "python",
   "nbconvert_exporter": "python",
   "pygments_lexer": "ipython3",
   "version": "3.9.7"
  }
 },
 "nbformat": 4,
 "nbformat_minor": 5
}
